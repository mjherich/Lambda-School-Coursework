{
 "cells": [
  {
   "cell_type": "code",
   "execution_count": 1,
   "metadata": {},
   "outputs": [],
   "source": [
    "# Libraries needed\n",
    "\n",
    "import pandas as pd\n",
    "import json"
   ]
  },
  {
   "cell_type": "code",
   "execution_count": 2,
   "metadata": {},
   "outputs": [],
   "source": [
    "# Reading into a dataframe\n",
    "\n",
    "with open('dummy_data.json') as f:\n",
    "    ytu = json.load(f)\n",
    "    \n",
    "ytu = pd.DataFrame(ytu)\n",
    "# ytu = pd.read_json('dummy_data.json')"
   ]
  },
  {
   "cell_type": "code",
   "execution_count": 3,
   "metadata": {},
   "outputs": [
    {
     "data": {
      "text/html": [
       "<div>\n",
       "<style scoped>\n",
       "    .dataframe tbody tr th:only-of-type {\n",
       "        vertical-align: middle;\n",
       "    }\n",
       "\n",
       "    .dataframe tbody tr th {\n",
       "        vertical-align: top;\n",
       "    }\n",
       "\n",
       "    .dataframe thead th {\n",
       "        text-align: right;\n",
       "    }\n",
       "</style>\n",
       "<table border=\"1\" class=\"dataframe\">\n",
       "  <thead>\n",
       "    <tr style=\"text-align: right;\">\n",
       "      <th></th>\n",
       "      <th>kind</th>\n",
       "      <th>etag</th>\n",
       "      <th>id</th>\n",
       "      <th>snippet</th>\n",
       "    </tr>\n",
       "  </thead>\n",
       "  <tbody>\n",
       "    <tr>\n",
       "      <th>channelId</th>\n",
       "      <td>youtube#searchResult</td>\n",
       "      <td>\"Bdx4f4ps3xCOOo1WZ91nTLkRZ_c/hwwdT88UtXa1mDHYR...</td>\n",
       "      <td>NaN</td>\n",
       "      <td>UC8butISFwT-Wl7EV0hUK0BQ</td>\n",
       "    </tr>\n",
       "    <tr>\n",
       "      <th>description</th>\n",
       "      <td>youtube#searchResult</td>\n",
       "      <td>\"Bdx4f4ps3xCOOo1WZ91nTLkRZ_c/hwwdT88UtXa1mDHYR...</td>\n",
       "      <td>NaN</td>\n",
       "      <td>This complete 134-part JavaScript tutorial for...</td>\n",
       "    </tr>\n",
       "    <tr>\n",
       "      <th>etag</th>\n",
       "      <td>youtube#searchResult</td>\n",
       "      <td>\"Bdx4f4ps3xCOOo1WZ91nTLkRZ_c/hwwdT88UtXa1mDHYR...</td>\n",
       "      <td>NaN</td>\n",
       "      <td>\"Bdx4f4ps3xCOOo1WZ91nTLkRZ_c/tR0iA74BHwL5GabGa...</td>\n",
       "    </tr>\n",
       "    <tr>\n",
       "      <th>id</th>\n",
       "      <td>youtube#searchResult</td>\n",
       "      <td>\"Bdx4f4ps3xCOOo1WZ91nTLkRZ_c/hwwdT88UtXa1mDHYR...</td>\n",
       "      <td>NaN</td>\n",
       "      <td>{'kind': 'youtube#video', 'videoId': 'hdI2bqOj...</td>\n",
       "    </tr>\n",
       "    <tr>\n",
       "      <th>kind</th>\n",
       "      <td>youtube#searchResult</td>\n",
       "      <td>\"Bdx4f4ps3xCOOo1WZ91nTLkRZ_c/hwwdT88UtXa1mDHYR...</td>\n",
       "      <td>youtube#video</td>\n",
       "      <td>outube#searchResult</td>\n",
       "    </tr>\n",
       "  </tbody>\n",
       "</table>\n",
       "</div>"
      ],
      "text/plain": [
       "                             kind  \\\n",
       "channelId    youtube#searchResult   \n",
       "description  youtube#searchResult   \n",
       "etag         youtube#searchResult   \n",
       "id           youtube#searchResult   \n",
       "kind         youtube#searchResult   \n",
       "\n",
       "                                                          etag             id  \\\n",
       "channelId    \"Bdx4f4ps3xCOOo1WZ91nTLkRZ_c/hwwdT88UtXa1mDHYR...            NaN   \n",
       "description  \"Bdx4f4ps3xCOOo1WZ91nTLkRZ_c/hwwdT88UtXa1mDHYR...            NaN   \n",
       "etag         \"Bdx4f4ps3xCOOo1WZ91nTLkRZ_c/hwwdT88UtXa1mDHYR...            NaN   \n",
       "id           \"Bdx4f4ps3xCOOo1WZ91nTLkRZ_c/hwwdT88UtXa1mDHYR...            NaN   \n",
       "kind         \"Bdx4f4ps3xCOOo1WZ91nTLkRZ_c/hwwdT88UtXa1mDHYR...  youtube#video   \n",
       "\n",
       "                                                       snippet  \n",
       "channelId                             UC8butISFwT-Wl7EV0hUK0BQ  \n",
       "description  This complete 134-part JavaScript tutorial for...  \n",
       "etag         \"Bdx4f4ps3xCOOo1WZ91nTLkRZ_c/tR0iA74BHwL5GabGa...  \n",
       "id           {'kind': 'youtube#video', 'videoId': 'hdI2bqOj...  \n",
       "kind                                       outube#searchResult  "
      ]
     },
     "execution_count": 3,
     "metadata": {},
     "output_type": "execute_result"
    }
   ],
   "source": [
    "ytu.head()"
   ]
  },
  {
   "cell_type": "code",
   "execution_count": null,
   "metadata": {},
   "outputs": [],
   "source": []
  }
 ],
 "metadata": {
  "kernelspec": {
   "display_name": "YT8M (Python 3)",
   "language": "python",
   "name": "yt8m"
  },
  "language_info": {
   "codemirror_mode": {
    "name": "ipython",
    "version": 3
   },
   "file_extension": ".py",
   "mimetype": "text/x-python",
   "name": "python",
   "nbconvert_exporter": "python",
   "pygments_lexer": "ipython3",
   "version": "3.7.3"
  }
 },
 "nbformat": 4,
 "nbformat_minor": 4
}
